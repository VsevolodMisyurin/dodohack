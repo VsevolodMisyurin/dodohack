{
 "cells": [
  {
   "cell_type": "markdown",
   "id": "809ce8cc-d2aa-4fcb-8dfc-0567f0feb289",
   "metadata": {},
   "source": [
    "# Импорты и фиксация"
   ]
  },
  {
   "cell_type": "code",
   "execution_count": 1,
   "id": "3574a380-e9be-4ada-89d5-9542f0007141",
   "metadata": {},
   "outputs": [],
   "source": [
    "import pandas as pd\n",
    "import numpy as np\n",
    "import matplotlib.pyplot as plt\n",
    "import seaborn as sns\n",
    "\n",
    "from sklearn.model_selection import train_test_split\n",
    "from sklearn.preprocessing import StandardScaler\n",
    "from sklearn.metrics import accuracy_score \n",
    "from sklearn.linear_model import LinearRegression\n",
    "from sklearn.ensemble import GradientBoostingClassifier\n",
    "from sklearn.metrics import roc_auc_score\n",
    "\n",
    "import torch\n",
    "from torch import nn\n",
    "\n",
    "from imblearn.over_sampling import SMOTE"
   ]
  },
  {
   "cell_type": "code",
   "execution_count": 2,
   "id": "2e3e953b-5613-4776-b1b6-9b4d3c96873f",
   "metadata": {},
   "outputs": [
    {
     "data": {
      "text/plain": [
       "<torch._C.Generator at 0x1d98106f3b0>"
      ]
     },
     "execution_count": 2,
     "metadata": {},
     "output_type": "execute_result"
    }
   ],
   "source": [
    "seed = 42\n",
    "torch.manual_seed(seed)"
   ]
  },
  {
   "cell_type": "markdown",
   "id": "3f8a8714-e92f-4ac3-9dd8-231214a095fd",
   "metadata": {},
   "source": [
    "# Загрузка и демонстрация данных"
   ]
  },
  {
   "cell_type": "code",
   "execution_count": 3,
   "id": "1bd25d39-432e-4b41-9652-793adfe1778d",
   "metadata": {},
   "outputs": [],
   "source": [
    "dir = 'D:/Книги/Программирование/ML_contests_хакатоны/data_secrets_first_cup/'\n",
    "\n",
    "train_features_target_clean = pd.read_csv(dir + 'train_features_target_filled.csv')\n",
    "test_features_filled = pd.read_csv(dir + 'test_features_filled.csv')"
   ]
  },
  {
   "cell_type": "code",
   "execution_count": 4,
   "id": "0c97d950-27e0-43cf-9407-11afea9d3c5c",
   "metadata": {},
   "outputs": [
    {
     "data": {
      "text/html": [
       "<div>\n",
       "<style scoped>\n",
       "    .dataframe tbody tr th:only-of-type {\n",
       "        vertical-align: middle;\n",
       "    }\n",
       "\n",
       "    .dataframe tbody tr th {\n",
       "        vertical-align: top;\n",
       "    }\n",
       "\n",
       "    .dataframe thead th {\n",
       "        text-align: right;\n",
       "    }\n",
       "</style>\n",
       "<table border=\"1\" class=\"dataframe\">\n",
       "  <thead>\n",
       "    <tr style=\"text-align: right;\">\n",
       "      <th></th>\n",
       "      <th>Id</th>\n",
       "      <th>OrderType</th>\n",
       "      <th>apply_promo</th>\n",
       "      <th>DiscountPercentPromo</th>\n",
       "      <th>MedianDiscountPercentNovemberPromo</th>\n",
       "      <th>MaxDiscountPercentNovemberPromo</th>\n",
       "      <th>AvgDisc</th>\n",
       "      <th>MaxDisc</th>\n",
       "      <th>NewClient1</th>\n",
       "      <th>OrderMedianPrice</th>\n",
       "      <th>...</th>\n",
       "      <th>addressIdMain</th>\n",
       "      <th>deliverySectorIdMain</th>\n",
       "      <th>ClientOrderMaxNumber</th>\n",
       "      <th>CategoryIdMain</th>\n",
       "      <th>OrderTypeMain</th>\n",
       "      <th>WeekBalance</th>\n",
       "      <th>PlatformMain</th>\n",
       "      <th>ApplyedPromoBalance</th>\n",
       "      <th>MedianDiscountPercentPromo</th>\n",
       "      <th>MaxDiscountPercentPromo</th>\n",
       "    </tr>\n",
       "  </thead>\n",
       "  <tbody>\n",
       "    <tr>\n",
       "      <th>count</th>\n",
       "      <td>27741.000000</td>\n",
       "      <td>27741.000000</td>\n",
       "      <td>27741.000000</td>\n",
       "      <td>27741.000000</td>\n",
       "      <td>27741.000000</td>\n",
       "      <td>27741.000000</td>\n",
       "      <td>27741.000000</td>\n",
       "      <td>27741.000000</td>\n",
       "      <td>27741.000000</td>\n",
       "      <td>27741.000000</td>\n",
       "      <td>...</td>\n",
       "      <td>2.774100e+04</td>\n",
       "      <td>27741.000000</td>\n",
       "      <td>27741.000000</td>\n",
       "      <td>27741.000000</td>\n",
       "      <td>27741.000000</td>\n",
       "      <td>27741.000000</td>\n",
       "      <td>27741.000000</td>\n",
       "      <td>27741.000000</td>\n",
       "      <td>27741.000000</td>\n",
       "      <td>27741.000000</td>\n",
       "    </tr>\n",
       "    <tr>\n",
       "      <th>mean</th>\n",
       "      <td>6.089831</td>\n",
       "      <td>1.585956</td>\n",
       "      <td>0.029811</td>\n",
       "      <td>17.479973</td>\n",
       "      <td>17.479973</td>\n",
       "      <td>20.832375</td>\n",
       "      <td>162.694928</td>\n",
       "      <td>194.776144</td>\n",
       "      <td>0.003893</td>\n",
       "      <td>952.090101</td>\n",
       "      <td>...</td>\n",
       "      <td>2.422997e+04</td>\n",
       "      <td>7.155690</td>\n",
       "      <td>48.390577</td>\n",
       "      <td>1.626473</td>\n",
       "      <td>1.207491</td>\n",
       "      <td>0.333762</td>\n",
       "      <td>0.747233</td>\n",
       "      <td>0.140397</td>\n",
       "      <td>12.664356</td>\n",
       "      <td>25.205737</td>\n",
       "    </tr>\n",
       "    <tr>\n",
       "      <th>std</th>\n",
       "      <td>0.861960</td>\n",
       "      <td>0.492565</td>\n",
       "      <td>0.170070</td>\n",
       "      <td>9.066232</td>\n",
       "      <td>7.489770</td>\n",
       "      <td>7.546295</td>\n",
       "      <td>69.018342</td>\n",
       "      <td>74.728024</td>\n",
       "      <td>0.062275</td>\n",
       "      <td>922.479219</td>\n",
       "      <td>...</td>\n",
       "      <td>5.763461e+05</td>\n",
       "      <td>177.561553</td>\n",
       "      <td>36.940131</td>\n",
       "      <td>1.186586</td>\n",
       "      <td>0.609812</td>\n",
       "      <td>0.154723</td>\n",
       "      <td>0.434606</td>\n",
       "      <td>0.169384</td>\n",
       "      <td>5.561731</td>\n",
       "      <td>1.737445</td>\n",
       "    </tr>\n",
       "    <tr>\n",
       "      <th>min</th>\n",
       "      <td>5.000000</td>\n",
       "      <td>1.000000</td>\n",
       "      <td>0.000000</td>\n",
       "      <td>1.200961</td>\n",
       "      <td>1.200961</td>\n",
       "      <td>1.200961</td>\n",
       "      <td>15.000000</td>\n",
       "      <td>15.000000</td>\n",
       "      <td>0.000000</td>\n",
       "      <td>0.000000</td>\n",
       "      <td>...</td>\n",
       "      <td>0.000000e+00</td>\n",
       "      <td>0.000000</td>\n",
       "      <td>10.000000</td>\n",
       "      <td>1.000000</td>\n",
       "      <td>1.000000</td>\n",
       "      <td>0.000000</td>\n",
       "      <td>0.000000</td>\n",
       "      <td>0.000000</td>\n",
       "      <td>1.053741</td>\n",
       "      <td>1.668057</td>\n",
       "    </tr>\n",
       "    <tr>\n",
       "      <th>25%</th>\n",
       "      <td>5.000000</td>\n",
       "      <td>1.000000</td>\n",
       "      <td>0.000000</td>\n",
       "      <td>14.299333</td>\n",
       "      <td>11.676898</td>\n",
       "      <td>20.016013</td>\n",
       "      <td>115.000000</td>\n",
       "      <td>200.000000</td>\n",
       "      <td>0.000000</td>\n",
       "      <td>873.000000</td>\n",
       "      <td>...</td>\n",
       "      <td>0.000000e+00</td>\n",
       "      <td>0.000000</td>\n",
       "      <td>38.000000</td>\n",
       "      <td>1.000000</td>\n",
       "      <td>1.000000</td>\n",
       "      <td>0.303571</td>\n",
       "      <td>0.000000</td>\n",
       "      <td>0.063830</td>\n",
       "      <td>11.343120</td>\n",
       "      <td>25.031289</td>\n",
       "    </tr>\n",
       "    <tr>\n",
       "      <th>50%</th>\n",
       "      <td>6.000000</td>\n",
       "      <td>2.000000</td>\n",
       "      <td>0.000000</td>\n",
       "      <td>20.016013</td>\n",
       "      <td>20.522050</td>\n",
       "      <td>25.031289</td>\n",
       "      <td>200.000000</td>\n",
       "      <td>200.000000</td>\n",
       "      <td>0.000000</td>\n",
       "      <td>907.000000</td>\n",
       "      <td>...</td>\n",
       "      <td>0.000000e+00</td>\n",
       "      <td>0.000000</td>\n",
       "      <td>41.000000</td>\n",
       "      <td>1.000000</td>\n",
       "      <td>1.000000</td>\n",
       "      <td>0.322581</td>\n",
       "      <td>1.000000</td>\n",
       "      <td>0.093750</td>\n",
       "      <td>13.678500</td>\n",
       "      <td>25.031289</td>\n",
       "    </tr>\n",
       "    <tr>\n",
       "      <th>75%</th>\n",
       "      <td>7.000000</td>\n",
       "      <td>2.000000</td>\n",
       "      <td>0.000000</td>\n",
       "      <td>25.031289</td>\n",
       "      <td>22.525655</td>\n",
       "      <td>25.031289</td>\n",
       "      <td>225.000000</td>\n",
       "      <td>250.000000</td>\n",
       "      <td>0.000000</td>\n",
       "      <td>943.000000</td>\n",
       "      <td>...</td>\n",
       "      <td>0.000000e+00</td>\n",
       "      <td>0.000000</td>\n",
       "      <td>44.000000</td>\n",
       "      <td>2.000000</td>\n",
       "      <td>1.000000</td>\n",
       "      <td>0.344262</td>\n",
       "      <td>1.000000</td>\n",
       "      <td>0.117647</td>\n",
       "      <td>15.806112</td>\n",
       "      <td>25.031289</td>\n",
       "    </tr>\n",
       "    <tr>\n",
       "      <th>max</th>\n",
       "      <td>7.000000</td>\n",
       "      <td>2.000000</td>\n",
       "      <td>1.000000</td>\n",
       "      <td>35.335689</td>\n",
       "      <td>33.388982</td>\n",
       "      <td>35.335689</td>\n",
       "      <td>300.000000</td>\n",
       "      <td>300.000000</td>\n",
       "      <td>1.000000</td>\n",
       "      <td>99418.000000</td>\n",
       "      <td>...</td>\n",
       "      <td>1.809301e+07</td>\n",
       "      <td>6571.000000</td>\n",
       "      <td>944.000000</td>\n",
       "      <td>7.000000</td>\n",
       "      <td>3.000000</td>\n",
       "      <td>1.000000</td>\n",
       "      <td>1.000000</td>\n",
       "      <td>1.000000</td>\n",
       "      <td>26.820531</td>\n",
       "      <td>35.335689</td>\n",
       "    </tr>\n",
       "  </tbody>\n",
       "</table>\n",
       "<p>8 rows × 26 columns</p>\n",
       "</div>"
      ],
      "text/plain": [
       "                 Id     OrderType   apply_promo  DiscountPercentPromo  \\\n",
       "count  27741.000000  27741.000000  27741.000000          27741.000000   \n",
       "mean       6.089831      1.585956      0.029811             17.479973   \n",
       "std        0.861960      0.492565      0.170070              9.066232   \n",
       "min        5.000000      1.000000      0.000000              1.200961   \n",
       "25%        5.000000      1.000000      0.000000             14.299333   \n",
       "50%        6.000000      2.000000      0.000000             20.016013   \n",
       "75%        7.000000      2.000000      0.000000             25.031289   \n",
       "max        7.000000      2.000000      1.000000             35.335689   \n",
       "\n",
       "       MedianDiscountPercentNovemberPromo  MaxDiscountPercentNovemberPromo  \\\n",
       "count                        27741.000000                     27741.000000   \n",
       "mean                            17.479973                        20.832375   \n",
       "std                              7.489770                         7.546295   \n",
       "min                              1.200961                         1.200961   \n",
       "25%                             11.676898                        20.016013   \n",
       "50%                             20.522050                        25.031289   \n",
       "75%                             22.525655                        25.031289   \n",
       "max                             33.388982                        35.335689   \n",
       "\n",
       "            AvgDisc       MaxDisc    NewClient1  OrderMedianPrice  ...  \\\n",
       "count  27741.000000  27741.000000  27741.000000      27741.000000  ...   \n",
       "mean     162.694928    194.776144      0.003893        952.090101  ...   \n",
       "std       69.018342     74.728024      0.062275        922.479219  ...   \n",
       "min       15.000000     15.000000      0.000000          0.000000  ...   \n",
       "25%      115.000000    200.000000      0.000000        873.000000  ...   \n",
       "50%      200.000000    200.000000      0.000000        907.000000  ...   \n",
       "75%      225.000000    250.000000      0.000000        943.000000  ...   \n",
       "max      300.000000    300.000000      1.000000      99418.000000  ...   \n",
       "\n",
       "       addressIdMain  deliverySectorIdMain  ClientOrderMaxNumber  \\\n",
       "count   2.774100e+04          27741.000000          27741.000000   \n",
       "mean    2.422997e+04              7.155690             48.390577   \n",
       "std     5.763461e+05            177.561553             36.940131   \n",
       "min     0.000000e+00              0.000000             10.000000   \n",
       "25%     0.000000e+00              0.000000             38.000000   \n",
       "50%     0.000000e+00              0.000000             41.000000   \n",
       "75%     0.000000e+00              0.000000             44.000000   \n",
       "max     1.809301e+07           6571.000000            944.000000   \n",
       "\n",
       "       CategoryIdMain  OrderTypeMain   WeekBalance  PlatformMain  \\\n",
       "count    27741.000000   27741.000000  27741.000000  27741.000000   \n",
       "mean         1.626473       1.207491      0.333762      0.747233   \n",
       "std          1.186586       0.609812      0.154723      0.434606   \n",
       "min          1.000000       1.000000      0.000000      0.000000   \n",
       "25%          1.000000       1.000000      0.303571      0.000000   \n",
       "50%          1.000000       1.000000      0.322581      1.000000   \n",
       "75%          2.000000       1.000000      0.344262      1.000000   \n",
       "max          7.000000       3.000000      1.000000      1.000000   \n",
       "\n",
       "       ApplyedPromoBalance  MedianDiscountPercentPromo  \\\n",
       "count         27741.000000                27741.000000   \n",
       "mean              0.140397                   12.664356   \n",
       "std               0.169384                    5.561731   \n",
       "min               0.000000                    1.053741   \n",
       "25%               0.063830                   11.343120   \n",
       "50%               0.093750                   13.678500   \n",
       "75%               0.117647                   15.806112   \n",
       "max               1.000000                   26.820531   \n",
       "\n",
       "       MaxDiscountPercentPromo  \n",
       "count             27741.000000  \n",
       "mean                 25.205737  \n",
       "std                   1.737445  \n",
       "min                   1.668057  \n",
       "25%                  25.031289  \n",
       "50%                  25.031289  \n",
       "75%                  25.031289  \n",
       "max                  35.335689  \n",
       "\n",
       "[8 rows x 26 columns]"
      ]
     },
     "execution_count": 4,
     "metadata": {},
     "output_type": "execute_result"
    }
   ],
   "source": [
    "train_features_target_clean.describe()"
   ]
  },
  {
   "cell_type": "code",
   "execution_count": 5,
   "id": "784efae4-f8a5-469a-9bda-64438a05992c",
   "metadata": {},
   "outputs": [
    {
     "data": {
      "text/plain": [
       "apply_promo\n",
       "0    26914\n",
       "1      827\n",
       "Name: count, dtype: int64"
      ]
     },
     "execution_count": 5,
     "metadata": {},
     "output_type": "execute_result"
    }
   ],
   "source": [
    "train_features_target_clean.apply_promo.value_counts()"
   ]
  },
  {
   "cell_type": "code",
   "execution_count": 6,
   "id": "1e01f257-b167-472f-b63e-41c1700efbb9",
   "metadata": {},
   "outputs": [
    {
     "data": {
      "text/html": [
       "<div>\n",
       "<style scoped>\n",
       "    .dataframe tbody tr th:only-of-type {\n",
       "        vertical-align: middle;\n",
       "    }\n",
       "\n",
       "    .dataframe tbody tr th {\n",
       "        vertical-align: top;\n",
       "    }\n",
       "\n",
       "    .dataframe thead th {\n",
       "        text-align: right;\n",
       "    }\n",
       "</style>\n",
       "<table border=\"1\" class=\"dataframe\">\n",
       "  <thead>\n",
       "    <tr style=\"text-align: right;\">\n",
       "      <th></th>\n",
       "      <th>Id</th>\n",
       "      <th>OrderType</th>\n",
       "      <th>DiscountPercentPromo</th>\n",
       "      <th>MedianDiscountPercentNovemberPromo</th>\n",
       "      <th>MaxDiscountPercentNovemberPromo</th>\n",
       "      <th>AvgDisc</th>\n",
       "      <th>MaxDisc</th>\n",
       "      <th>NewClient1</th>\n",
       "      <th>OrderMedianPrice</th>\n",
       "      <th>OrderMeanPrice</th>\n",
       "      <th>...</th>\n",
       "      <th>addressIdMain</th>\n",
       "      <th>deliverySectorIdMain</th>\n",
       "      <th>ClientOrderMaxNumber</th>\n",
       "      <th>CategoryIdMain</th>\n",
       "      <th>OrderTypeMain</th>\n",
       "      <th>WeekBalance</th>\n",
       "      <th>PlatformMain</th>\n",
       "      <th>ApplyedPromoBalance</th>\n",
       "      <th>MedianDiscountPercentPromo</th>\n",
       "      <th>MaxDiscountPercentPromo</th>\n",
       "    </tr>\n",
       "  </thead>\n",
       "  <tbody>\n",
       "    <tr>\n",
       "      <th>0</th>\n",
       "      <td>7</td>\n",
       "      <td>2</td>\n",
       "      <td>25.031289</td>\n",
       "      <td>25.031289</td>\n",
       "      <td>25.031289</td>\n",
       "      <td>200.0</td>\n",
       "      <td>200</td>\n",
       "      <td>0.0</td>\n",
       "      <td>544.0</td>\n",
       "      <td>569.033333</td>\n",
       "      <td>...</td>\n",
       "      <td>0.0</td>\n",
       "      <td>0.0</td>\n",
       "      <td>49.0</td>\n",
       "      <td>1.0</td>\n",
       "      <td>1.0</td>\n",
       "      <td>0.666667</td>\n",
       "      <td>0.0</td>\n",
       "      <td>0.066667</td>\n",
       "      <td>14.460512</td>\n",
       "      <td>25.031289</td>\n",
       "    </tr>\n",
       "    <tr>\n",
       "      <th>1</th>\n",
       "      <td>5</td>\n",
       "      <td>2</td>\n",
       "      <td>28.612303</td>\n",
       "      <td>28.612303</td>\n",
       "      <td>28.612303</td>\n",
       "      <td>200.0</td>\n",
       "      <td>200</td>\n",
       "      <td>0.0</td>\n",
       "      <td>906.0</td>\n",
       "      <td>1091.827586</td>\n",
       "      <td>...</td>\n",
       "      <td>0.0</td>\n",
       "      <td>0.0</td>\n",
       "      <td>102.0</td>\n",
       "      <td>3.0</td>\n",
       "      <td>1.0</td>\n",
       "      <td>0.586207</td>\n",
       "      <td>1.0</td>\n",
       "      <td>0.465517</td>\n",
       "      <td>4.291845</td>\n",
       "      <td>30.030030</td>\n",
       "    </tr>\n",
       "  </tbody>\n",
       "</table>\n",
       "<p>2 rows × 25 columns</p>\n",
       "</div>"
      ],
      "text/plain": [
       "   Id  OrderType  DiscountPercentPromo  MedianDiscountPercentNovemberPromo  \\\n",
       "0   7          2             25.031289                           25.031289   \n",
       "1   5          2             28.612303                           28.612303   \n",
       "\n",
       "   MaxDiscountPercentNovemberPromo  AvgDisc  MaxDisc  NewClient1  \\\n",
       "0                        25.031289    200.0      200         0.0   \n",
       "1                        28.612303    200.0      200         0.0   \n",
       "\n",
       "   OrderMedianPrice  OrderMeanPrice  ...  addressIdMain  deliverySectorIdMain  \\\n",
       "0             544.0      569.033333  ...            0.0                   0.0   \n",
       "1             906.0     1091.827586  ...            0.0                   0.0   \n",
       "\n",
       "   ClientOrderMaxNumber  CategoryIdMain  OrderTypeMain  WeekBalance  \\\n",
       "0                  49.0             1.0            1.0     0.666667   \n",
       "1                 102.0             3.0            1.0     0.586207   \n",
       "\n",
       "   PlatformMain  ApplyedPromoBalance  MedianDiscountPercentPromo  \\\n",
       "0           0.0             0.066667                   14.460512   \n",
       "1           1.0             0.465517                    4.291845   \n",
       "\n",
       "   MaxDiscountPercentPromo  \n",
       "0                25.031289  \n",
       "1                30.030030  \n",
       "\n",
       "[2 rows x 25 columns]"
      ]
     },
     "execution_count": 6,
     "metadata": {},
     "output_type": "execute_result"
    }
   ],
   "source": [
    "test_features_filled.head(2)"
   ]
  },
  {
   "cell_type": "code",
   "execution_count": 7,
   "id": "778af86f-f7c5-4821-b4b8-5eaecacc631b",
   "metadata": {},
   "outputs": [
    {
     "data": {
      "text/plain": [
       "((27741, 26), (6806, 25))"
      ]
     },
     "execution_count": 7,
     "metadata": {},
     "output_type": "execute_result"
    }
   ],
   "source": [
    "train_features_target_clean.shape, test_features_filled.shape"
   ]
  },
  {
   "cell_type": "code",
   "execution_count": 8,
   "id": "3813745c-08bb-4089-9c65-ee60273086b1",
   "metadata": {},
   "outputs": [
    {
     "data": {
      "text/plain": [
       "Index(['Id', 'OrderType', 'apply_promo', 'DiscountPercentPromo',\n",
       "       'MedianDiscountPercentNovemberPromo', 'MaxDiscountPercentNovemberPromo',\n",
       "       'AvgDisc', 'MaxDisc', 'NewClient1', 'OrderMedianPrice',\n",
       "       'OrderMeanPrice', 'OrderMinPrice', 'OrderMaxPrice',\n",
       "       'MedianDiscountPercent', 'ProductUUIdCount', 'ProductUUIdMedian',\n",
       "       'addressIdMain', 'deliverySectorIdMain', 'ClientOrderMaxNumber',\n",
       "       'CategoryIdMain', 'OrderTypeMain', 'WeekBalance', 'PlatformMain',\n",
       "       'ApplyedPromoBalance', 'MedianDiscountPercentPromo',\n",
       "       'MaxDiscountPercentPromo'],\n",
       "      dtype='object')"
      ]
     },
     "execution_count": 8,
     "metadata": {},
     "output_type": "execute_result"
    }
   ],
   "source": [
    "train_features_target_clean.columns"
   ]
  },
  {
   "cell_type": "markdown",
   "id": "da7e1057-7fc3-4a57-9031-c53ed5ec5db1",
   "metadata": {},
   "source": [
    "# Подготовка датасета перед обучением"
   ]
  },
  {
   "cell_type": "code",
   "execution_count": 9,
   "id": "57db6202-1af6-47dc-87c1-b220ff432bd4",
   "metadata": {},
   "outputs": [],
   "source": [
    "X = train_features_target_clean.drop('apply_promo', axis=1)\n",
    "y = train_features_target_clean['apply_promo']"
   ]
  },
  {
   "cell_type": "code",
   "execution_count": 10,
   "id": "50d6f2af-5228-49d7-b034-78b376b32cf4",
   "metadata": {},
   "outputs": [],
   "source": [
    "# разбиваем тренировочную выборку на тренировочную и валидационную в соотношении 75/25\n",
    "X_train, X_val, y_train, y_val = train_test_split(X, y, random_state=42)"
   ]
  },
  {
   "cell_type": "code",
   "execution_count": 11,
   "id": "11985a7e-ebe8-4b5d-ba24-30ee9170c4a7",
   "metadata": {},
   "outputs": [
    {
     "data": {
      "text/plain": [
       "apply_promo\n",
       "0    20190\n",
       "1      615\n",
       "Name: count, dtype: int64"
      ]
     },
     "execution_count": 11,
     "metadata": {},
     "output_type": "execute_result"
    }
   ],
   "source": [
    "y_train.value_counts()"
   ]
  },
  {
   "cell_type": "code",
   "execution_count": 12,
   "id": "284b87f8-7e68-4430-befc-3bfa55d0d983",
   "metadata": {},
   "outputs": [],
   "source": [
    "X_test = test_features_filled.copy()"
   ]
  },
  {
   "cell_type": "code",
   "execution_count": 13,
   "id": "8b9d6462-d610-47d4-b8de-859ab09ad208",
   "metadata": {},
   "outputs": [
    {
     "name": "stdout",
     "output_type": "stream",
     "text": [
      "Размерность тренировочной выборки: (20805, 25)\n",
      "Размерность валидационной: (6936, 25)\n",
      "Размерность тестовой: (6806, 25)\n"
     ]
    }
   ],
   "source": [
    "print(f'Размерность тренировочной выборки: {X_train.shape}')\n",
    "print(f'Размерность валидационной: {X_val.shape}')\n",
    "print(f'Размерность тестовой: {X_test.shape}')"
   ]
  },
  {
   "cell_type": "code",
   "execution_count": 14,
   "id": "91e5cf29-7bfd-4b4c-a557-920b3f5d89b9",
   "metadata": {},
   "outputs": [],
   "source": [
    "# Стандартизация\n",
    "scaler = StandardScaler()\n",
    "\n",
    "X_train = scaler.fit_transform(X_train)\n",
    "X_val = scaler.transform(X_val)\n",
    "X_test = scaler.transform(X_test)"
   ]
  },
  {
   "cell_type": "code",
   "execution_count": 15,
   "id": "9eff486a-8e06-4716-b21b-5148fb5b0676",
   "metadata": {},
   "outputs": [
    {
     "data": {
      "text/plain": [
       "array([[ 1.05195527,  0.83975479,  0.82905063, ...,  2.85039941,\n",
       "         0.93552414, -0.10227114],\n",
       "       [-0.10774849,  0.83975479, -1.65699668, ...,  3.67333459,\n",
       "        -0.25608534, -0.10227114],\n",
       "       [ 1.05195527,  0.83975479,  0.82905063, ..., -0.27891992,\n",
       "         0.17996183, -0.10227114],\n",
       "       ...,\n",
       "       [ 1.05195527, -1.19082382,  0.27560045, ..., -0.27891992,\n",
       "         0.17996183, -0.10227114],\n",
       "       [-0.10774849,  0.83975479, -1.65699668, ..., -0.83115274,\n",
       "         0.87200079, -0.10227114],\n",
       "       [ 1.05195527,  0.83975479,  0.82905063, ..., -0.27891992,\n",
       "         0.17996183, -0.10227114]])"
      ]
     },
     "execution_count": 15,
     "metadata": {},
     "output_type": "execute_result"
    }
   ],
   "source": [
    "X_val"
   ]
  },
  {
   "cell_type": "code",
   "execution_count": 16,
   "id": "5b860be4-e3d0-4a86-a10a-f30ec8bec6ce",
   "metadata": {},
   "outputs": [],
   "source": [
    "# Преобразование данных в тензоры\n",
    "X_train = torch.Tensor(X_train).float()\n",
    "y_train = torch.Tensor(y_train.values).long()\n",
    "X_val = torch.Tensor(X_val).float()\n",
    "y_val = torch.Tensor(y_val.values).long()\n",
    "X_test = torch.Tensor(X_test).float()"
   ]
  },
  {
   "cell_type": "markdown",
   "id": "a5d8461c-5639-4498-a1ae-3492b79f03d4",
   "metadata": {},
   "source": [
    "# Полносвязная на исходных данных"
   ]
  },
  {
   "cell_type": "code",
   "execution_count": 17,
   "id": "926cda60-2a05-4c80-a261-a1a7f924b04f",
   "metadata": {},
   "outputs": [],
   "source": [
    "def train(model, X_train, y_train, loss_fn, optimizer, epochs=1000):\n",
    "    model.train()\n",
    "    for epoch in range(epochs):\n",
    "        optimizer.zero_grad()\n",
    "        output = model(X_train)\n",
    "        loss = loss_fn(output, y_train.unsqueeze(1))  # изменяем форму y_train\n",
    "        loss.backward()\n",
    "        optimizer.step()\n",
    "        if epoch % 100 == 0:\n",
    "            print(f'Epoch {epoch}, Loss: {loss.item()}')\n",
    "    return model\n",
    "\n",
    "def evaluate(model, X_val, y_val, loss_fn):\n",
    "    model.eval()\n",
    "    with torch.no_grad():\n",
    "        output = model(X_val)\n",
    "        loss = loss_fn(output, y_val.unsqueeze(1))  # изменяем форму y_val\n",
    "\n",
    "        return output, loss"
   ]
  },
  {
   "cell_type": "code",
   "execution_count": 18,
   "id": "59bec78f-8db8-4a41-91c1-9d21717b90ef",
   "metadata": {},
   "outputs": [],
   "source": [
    "# Архитектура\n",
    "class Classifier(nn.Module):\n",
    "    def __init__(self):\n",
    "        super().__init__()\n",
    "        self.linear1 = nn.Linear(in_features=25, out_features=128)  # на вход 22 признака, преобразуем в 128\n",
    "        self.tanh = nn.Tanh()\n",
    "        self.relu = nn.ReLU()\n",
    "        self.linear2 = nn.Linear(in_features=128, out_features=1)  # один выход для вероятности класса\n",
    "        self.sigmoid = nn.Sigmoid()  # Для предсказания вероятности выбираю сигмоиду\n",
    "\n",
    "    def forward(self, x):\n",
    "        x = self.tanh(self.linear1(x))  # сначала Tanh\n",
    "        x = self.relu(x)                # затем ReLU\n",
    "        x = self.linear2(x)\n",
    "        x = self.sigmoid(x)\n",
    "        return x\n",
    "\n",
    "model = Classifier()"
   ]
  },
  {
   "cell_type": "code",
   "execution_count": 19,
   "id": "9a0a13e2-f05c-495c-98d0-463b6b5af866",
   "metadata": {},
   "outputs": [],
   "source": [
    "# Используем BCELoss вместо CrossEntropyLoss\n",
    "loss_fn = nn.BCELoss()\n",
    "\n",
    "# Команда для тренировки\n",
    "optimizer = torch.optim.Adam(model.parameters(), lr=0.0001)"
   ]
  },
  {
   "cell_type": "code",
   "execution_count": 20,
   "id": "0687d0de-3733-4646-826e-d9b4e8dc112c",
   "metadata": {},
   "outputs": [],
   "source": [
    "y_train = y_train.float()\n",
    "y_val = y_val.float()"
   ]
  },
  {
   "cell_type": "code",
   "execution_count": 21,
   "id": "f720e6b3-9daf-4fca-b1b3-4dc322f2e501",
   "metadata": {},
   "outputs": [
    {
     "name": "stdout",
     "output_type": "stream",
     "text": [
      "Epoch 0, Loss: 0.6576841473579407\n",
      "Epoch 100, Loss: 0.5304363369941711\n",
      "Epoch 200, Loss: 0.4311961531639099\n",
      "Epoch 300, Loss: 0.3534330725669861\n",
      "Epoch 400, Loss: 0.29334697127342224\n",
      "Epoch 500, Loss: 0.24796704947948456\n",
      "Epoch 600, Loss: 0.21445031464099884\n",
      "Epoch 700, Loss: 0.19004282355308533\n",
      "Epoch 800, Loss: 0.17238396406173706\n",
      "Epoch 900, Loss: 0.15958522260189056\n",
      "Epoch 1000, Loss: 0.15027014911174774\n",
      "Epoch 1100, Loss: 0.14344140887260437\n",
      "Epoch 1200, Loss: 0.13838553428649902\n",
      "Epoch 1300, Loss: 0.1345987170934677\n",
      "Epoch 1400, Loss: 0.131734237074852\n",
      "Epoch 1500, Loss: 0.1295362114906311\n",
      "Epoch 1600, Loss: 0.12782999873161316\n",
      "Epoch 1700, Loss: 0.12647514045238495\n",
      "Epoch 1800, Loss: 0.12538570165634155\n",
      "Epoch 1900, Loss: 0.12448956072330475\n",
      "Epoch 2000, Loss: 0.12372474372386932\n",
      "Epoch 2100, Loss: 0.1230623796582222\n",
      "Epoch 2200, Loss: 0.1224788948893547\n",
      "Epoch 2300, Loss: 0.12195314466953278\n",
      "Epoch 2400, Loss: 0.12147372215986252\n",
      "Epoch 2500, Loss: 0.12103630602359772\n",
      "Epoch 2600, Loss: 0.12063828110694885\n",
      "Epoch 2700, Loss: 0.12026549130678177\n",
      "Epoch 2800, Loss: 0.11991433054208755\n",
      "Epoch 2900, Loss: 0.11957444250583649\n",
      "Epoch 3000, Loss: 0.11924184858798981\n",
      "Epoch 3100, Loss: 0.1189107894897461\n",
      "Epoch 3200, Loss: 0.11858402192592621\n",
      "Epoch 3300, Loss: 0.11827020347118378\n",
      "Epoch 3400, Loss: 0.11796490103006363\n",
      "tensor([[0.0919],\n",
      "        [0.2845],\n",
      "        [0.0119],\n",
      "        ...,\n",
      "        [0.0127],\n",
      "        [0.0167],\n",
      "        [0.0235]]) tensor(0.1242)\n"
     ]
    }
   ],
   "source": [
    "trained_model = train(model, X_train, y_train, loss_fn, optimizer, epochs=3500)\n",
    "y_preds, val_loss = evaluate(trained_model, X_val, y_val, loss_fn)\n",
    "print(y_preds, val_loss)"
   ]
  },
  {
   "cell_type": "code",
   "execution_count": 22,
   "id": "e2ea1798-c015-4a48-a3f1-67c097e00aab",
   "metadata": {},
   "outputs": [
    {
     "data": {
      "text/plain": [
       "(tensor([[0.0919],\n",
       "         [0.2845],\n",
       "         [0.0119],\n",
       "         ...,\n",
       "         [0.0127],\n",
       "         [0.0167],\n",
       "         [0.0235]]),\n",
       " tensor(0.1242))"
      ]
     },
     "execution_count": 22,
     "metadata": {},
     "output_type": "execute_result"
    }
   ],
   "source": [
    "y_pred = evaluate(trained_model, X_val, y_val, loss_fn)\n",
    "y_pred"
   ]
  },
  {
   "cell_type": "code",
   "execution_count": 23,
   "id": "93861e79-63e5-4d73-a731-66846e2eeb80",
   "metadata": {},
   "outputs": [
    {
     "name": "stdout",
     "output_type": "stream",
     "text": [
      "accuracy: 0.9600634371395617\n"
     ]
    }
   ],
   "source": [
    "# Функция evaluate возвращает кортеж (output, loss), поэтому нужно получить только output\n",
    "y_preds, val_loss = evaluate(trained_model, X_val, y_val, loss_fn)\n",
    "\n",
    "# Преобразование вероятностей в бинарные метки (0 или 1)\n",
    "# Предполагаем, что порог для бинарной классификации равен 0.5\n",
    "y_pred_labels = (y_preds >= 0.155).float()\n",
    "\n",
    "# Вызов функции accuracy_score на векторе предсказанных меток и векторе истинных меток\n",
    "acc = accuracy_score(y_val, y_pred_labels)\n",
    "\n",
    "# Вывод значения accuracy\n",
    "print(f'accuracy: {acc}')"
   ]
  },
  {
   "cell_type": "code",
   "execution_count": 24,
   "id": "5aa26198-ce20-4503-acc0-2b3ad192211d",
   "metadata": {},
   "outputs": [
    {
     "name": "stdout",
     "output_type": "stream",
     "text": [
      "Number of unique labels: 2\n",
      "Unique labels: tensor([0., 1.])\n"
     ]
    }
   ],
   "source": [
    "# Получение уникальных значений в тензоре\n",
    "unique_labels = torch.unique(y_pred_labels)\n",
    "\n",
    "# Подсчет количества уникальных значений\n",
    "num_unique_labels = len(unique_labels)\n",
    "\n",
    "print(f'Number of unique labels: {num_unique_labels}')\n",
    "print(f'Unique labels: {unique_labels}')"
   ]
  },
  {
   "cell_type": "code",
   "execution_count": 25,
   "id": "a9ce5624-e8cd-44ed-a969-ddb2cd5e9f98",
   "metadata": {},
   "outputs": [
    {
     "name": "stdout",
     "output_type": "stream",
     "text": [
      "Number of class 1: 117\n"
     ]
    }
   ],
   "source": [
    "num_ones = torch.sum(y_pred_labels)\n",
    "\n",
    "print(f'Number of class 1: {int(num_ones)}')"
   ]
  },
  {
   "cell_type": "code",
   "execution_count": 26,
   "id": "966788c7-dc45-4b94-a209-52f8ab1a3d00",
   "metadata": {},
   "outputs": [
    {
     "data": {
      "text/plain": [
       "Classifier(\n",
       "  (linear1): Linear(in_features=25, out_features=128, bias=True)\n",
       "  (tanh): Tanh()\n",
       "  (relu): ReLU()\n",
       "  (linear2): Linear(in_features=128, out_features=1, bias=True)\n",
       "  (sigmoid): Sigmoid()\n",
       ")"
      ]
     },
     "execution_count": 26,
     "metadata": {},
     "output_type": "execute_result"
    }
   ],
   "source": [
    "# Находится ли модель в режиме оценки?\n",
    "model.eval()"
   ]
  },
  {
   "cell_type": "code",
   "execution_count": 27,
   "id": "6ae67263-2896-468b-bb8f-a47094c047f4",
   "metadata": {},
   "outputs": [],
   "source": [
    "# Применение модели к тестовым данным и получаем предсказанные вероятности\n",
    "with torch.no_grad():\n",
    "    y_test_preds = model(X_test)"
   ]
  },
  {
   "cell_type": "code",
   "execution_count": 28,
   "id": "7efe3f5e-fd20-4e1c-a937-4724f6a22682",
   "metadata": {},
   "outputs": [
    {
     "data": {
      "text/plain": [
       "tensor([[0.0094],\n",
       "        [0.0704],\n",
       "        [0.0146],\n",
       "        ...,\n",
       "        [0.0286],\n",
       "        [0.1385],\n",
       "        [0.0127]])"
      ]
     },
     "execution_count": 28,
     "metadata": {},
     "output_type": "execute_result"
    }
   ],
   "source": [
    "y_test_preds"
   ]
  },
  {
   "cell_type": "code",
   "execution_count": 29,
   "id": "2c55ea78-4080-4eee-b069-dcc86195573a",
   "metadata": {},
   "outputs": [
    {
     "data": {
      "text/plain": [
       "array([0.00936999, 0.07040037, 0.01461856, ..., 0.02863369, 0.13852344,\n",
       "       0.01273487], dtype=float32)"
      ]
     },
     "execution_count": 29,
     "metadata": {},
     "output_type": "execute_result"
    }
   ],
   "source": [
    "y_test_probs = y_test_preds.cpu().numpy()\n",
    "y_test_probs = y_test_probs.flatten()\n",
    "y_test_probs"
   ]
  },
  {
   "cell_type": "code",
   "execution_count": 30,
   "id": "8cf5d969-2de1-47ea-ba5e-68f446461781",
   "metadata": {},
   "outputs": [
    {
     "data": {
      "text/html": [
       "<div>\n",
       "<style scoped>\n",
       "    .dataframe tbody tr th:only-of-type {\n",
       "        vertical-align: middle;\n",
       "    }\n",
       "\n",
       "    .dataframe tbody tr th {\n",
       "        vertical-align: top;\n",
       "    }\n",
       "\n",
       "    .dataframe thead th {\n",
       "        text-align: right;\n",
       "    }\n",
       "</style>\n",
       "<table border=\"1\" class=\"dataframe\">\n",
       "  <thead>\n",
       "    <tr style=\"text-align: right;\">\n",
       "      <th></th>\n",
       "      <th>apply_promo</th>\n",
       "    </tr>\n",
       "  </thead>\n",
       "  <tbody>\n",
       "    <tr>\n",
       "      <th>0</th>\n",
       "      <td>0.009370</td>\n",
       "    </tr>\n",
       "    <tr>\n",
       "      <th>1</th>\n",
       "      <td>0.070400</td>\n",
       "    </tr>\n",
       "    <tr>\n",
       "      <th>2</th>\n",
       "      <td>0.014619</td>\n",
       "    </tr>\n",
       "    <tr>\n",
       "      <th>3</th>\n",
       "      <td>0.018227</td>\n",
       "    </tr>\n",
       "    <tr>\n",
       "      <th>4</th>\n",
       "      <td>0.042876</td>\n",
       "    </tr>\n",
       "    <tr>\n",
       "      <th>...</th>\n",
       "      <td>...</td>\n",
       "    </tr>\n",
       "    <tr>\n",
       "      <th>6801</th>\n",
       "      <td>0.011672</td>\n",
       "    </tr>\n",
       "    <tr>\n",
       "      <th>6802</th>\n",
       "      <td>0.025779</td>\n",
       "    </tr>\n",
       "    <tr>\n",
       "      <th>6803</th>\n",
       "      <td>0.028634</td>\n",
       "    </tr>\n",
       "    <tr>\n",
       "      <th>6804</th>\n",
       "      <td>0.138523</td>\n",
       "    </tr>\n",
       "    <tr>\n",
       "      <th>6805</th>\n",
       "      <td>0.012735</td>\n",
       "    </tr>\n",
       "  </tbody>\n",
       "</table>\n",
       "<p>6806 rows × 1 columns</p>\n",
       "</div>"
      ],
      "text/plain": [
       "      apply_promo\n",
       "0        0.009370\n",
       "1        0.070400\n",
       "2        0.014619\n",
       "3        0.018227\n",
       "4        0.042876\n",
       "...           ...\n",
       "6801     0.011672\n",
       "6802     0.025779\n",
       "6803     0.028634\n",
       "6804     0.138523\n",
       "6805     0.012735\n",
       "\n",
       "[6806 rows x 1 columns]"
      ]
     },
     "execution_count": 30,
     "metadata": {},
     "output_type": "execute_result"
    }
   ],
   "source": [
    "result_df = pd.DataFrame({'apply_promo': y_test_probs})\n",
    "result_df.to_csv(dir + 'submit.csv', index=False)  # 0.68 площадь под кривой\n",
    "result_df"
   ]
  },
  {
   "cell_type": "markdown",
   "id": "b7f5188a-9ca2-49b8-89b3-92ebd9533e2a",
   "metadata": {},
   "source": [
    "# Аугментация, Гауссов шум"
   ]
  },
  {
   "cell_type": "code",
   "execution_count": 31,
   "id": "cd2c9010-808c-4d98-93fa-15e2fef6a7f6",
   "metadata": {},
   "outputs": [
    {
     "name": "stdout",
     "output_type": "stream",
     "text": [
      "Размерность тренировочной выборки: (20805, 25)\n",
      "Размерность валидационной: (6936, 25)\n",
      "Размерность тестовой: (6806, 25)\n"
     ]
    }
   ],
   "source": [
    "X = train_features_target_clean.drop('apply_promo', axis=1)\n",
    "y = train_features_target_clean['apply_promo']\n",
    "\n",
    "# разбиваем тренировочную выборку на тренировочную и валидационную в соотношении 75/25\n",
    "X_train, X_val, y_train, y_val = train_test_split(X, y, random_state=42)\n",
    "\n",
    "y_train.value_counts()\n",
    "\n",
    "X_test = test_features_filled.copy()\n",
    "\n",
    "print(f'Размерность тренировочной выборки: {X_train.shape}')\n",
    "print(f'Размерность валидационной: {X_val.shape}')\n",
    "print(f'Размерность тестовой: {X_test.shape}')"
   ]
  },
  {
   "cell_type": "code",
   "execution_count": 32,
   "id": "0501c5c8-e266-4479-8722-6413c2d25632",
   "metadata": {},
   "outputs": [],
   "source": [
    "# Стандартизация\n",
    "scaler = StandardScaler()\n",
    "\n",
    "X_train = scaler.fit_transform(X_train)\n",
    "X_val = scaler.transform(X_val)\n",
    "X_test = scaler.transform(X_test)"
   ]
  },
  {
   "cell_type": "code",
   "execution_count": 33,
   "id": "0d201284-ca5f-48f4-a7a9-a42ef933e4ca",
   "metadata": {},
   "outputs": [],
   "source": [
    "# Преобразование данных в тензоры\n",
    "X_train = torch.Tensor(X_train).float()\n",
    "y_train = torch.Tensor(y_train.values).long()\n",
    "X_val = torch.Tensor(X_val).float()\n",
    "y_val = torch.Tensor(y_val.values).long()\n",
    "X_test = torch.Tensor(X_test).float()"
   ]
  },
  {
   "cell_type": "code",
   "execution_count": 34,
   "id": "2adb5c4a-3838-4aff-9db8-03c4c56aadf1",
   "metadata": {},
   "outputs": [],
   "source": [
    "# Архитектура, предусматривающиая добавление гауссовского шума в данные \n",
    "class NoisyClassifier(nn.Module):\n",
    "    def __init__(self):\n",
    "        super(NoisyClassifier, self).__init__()\n",
    "        self.linear1 = nn.Linear(in_features=25, out_features=128)\n",
    "        self.tanh = nn.Tanh()\n",
    "        self.relu = nn.ReLU()\n",
    "        self.linear2 = nn.Linear(in_features=128, out_features=1)\n",
    "        self.sigmoid = nn.Sigmoid()\n",
    "        self.noise_std = 0.01  # Стандартное отклонение шума\n",
    "\n",
    "    def forward(self, x):\n",
    "        # Добавляем гауссовский шум к входным данным\n",
    "        noise = torch.randn_like(x) * self.noise_std\n",
    "        x = x + noise\n",
    "\n",
    "        x = self.relu(self.tanh(self.linear1(x)))\n",
    "        x = self.sigmoid(self.linear2(x))\n",
    "        return x\n",
    "\n",
    "# Пример создания и использования модели\n",
    "model = NoisyClassifier()"
   ]
  },
  {
   "cell_type": "code",
   "execution_count": 35,
   "id": "d430f41f-595c-440d-84f3-ba2ec84a0f02",
   "metadata": {},
   "outputs": [],
   "source": [
    "# Используем BCELoss вместо CrossEntropyLoss\n",
    "loss_fn = nn.BCELoss()\n",
    "\n",
    "# Пример вашего кода тренировки\n",
    "optimizer = torch.optim.Adam(model.parameters(), lr=0.00005)"
   ]
  },
  {
   "cell_type": "code",
   "execution_count": 36,
   "id": "d73842f7-9a1a-4b06-b5b3-9d353441cee3",
   "metadata": {},
   "outputs": [],
   "source": [
    "y_train = y_train.float()\n",
    "y_val = y_val.float()"
   ]
  },
  {
   "cell_type": "code",
   "execution_count": 37,
   "id": "860a6d7e-25b6-4fbe-b51e-bc87235e9807",
   "metadata": {},
   "outputs": [
    {
     "name": "stdout",
     "output_type": "stream",
     "text": [
      "Epoch 0, Loss: 0.7167753577232361\n",
      "Epoch 100, Loss: 0.6418163776397705\n",
      "Epoch 200, Loss: 0.575435996055603\n",
      "Epoch 300, Loss: 0.5164482593536377\n",
      "Epoch 400, Loss: 0.464030385017395\n",
      "Epoch 500, Loss: 0.4175012409687042\n",
      "Epoch 600, Loss: 0.3765648603439331\n",
      "Epoch 700, Loss: 0.34072190523147583\n",
      "Epoch 800, Loss: 0.3095240294933319\n",
      "Epoch 900, Loss: 0.28254321217536926\n",
      "Epoch 1000, Loss: 0.2592548727989197\n",
      "Epoch 1100, Loss: 0.23928029835224152\n",
      "Epoch 1200, Loss: 0.22217120230197906\n",
      "Epoch 1300, Loss: 0.20758815109729767\n",
      "Epoch 1400, Loss: 0.19517923891544342\n",
      "Epoch 1500, Loss: 0.18457220494747162\n",
      "Epoch 1600, Loss: 0.1755165010690689\n",
      "Epoch 1700, Loss: 0.1678345799446106\n",
      "Epoch 1800, Loss: 0.16125261783599854\n",
      "Epoch 1900, Loss: 0.15565225481987\n",
      "Epoch 2000, Loss: 0.15086784958839417\n",
      "Epoch 2100, Loss: 0.1467694640159607\n",
      "Epoch 2200, Loss: 0.14325807988643646\n",
      "Epoch 2300, Loss: 0.140286386013031\n",
      "Epoch 2400, Loss: 0.137704536318779\n",
      "Epoch 2500, Loss: 0.1355094313621521\n",
      "Epoch 2600, Loss: 0.13362497091293335\n",
      "Epoch 2700, Loss: 0.1319575160741806\n",
      "Epoch 2800, Loss: 0.13056474924087524\n",
      "Epoch 2900, Loss: 0.1293209046125412\n",
      "Epoch 3000, Loss: 0.12824426591396332\n",
      "Epoch 3100, Loss: 0.1273123025894165\n",
      "Epoch 3200, Loss: 0.1264856606721878\n",
      "Epoch 3300, Loss: 0.12577158212661743\n",
      "Epoch 3400, Loss: 0.12514300644397736\n",
      "Epoch 3500, Loss: 0.12456830590963364\n",
      "Epoch 3600, Loss: 0.12404443323612213\n",
      "Epoch 3700, Loss: 0.12358873337507248\n",
      "Epoch 3800, Loss: 0.12315259128808975\n",
      "Epoch 3900, Loss: 0.12277259677648544\n",
      "Epoch 4000, Loss: 0.12239604443311691\n",
      "Epoch 4100, Loss: 0.12206052243709564\n",
      "Epoch 4200, Loss: 0.12175145745277405\n",
      "Epoch 4300, Loss: 0.12147323042154312\n",
      "Epoch 4400, Loss: 0.12118680775165558\n",
      "Epoch 4500, Loss: 0.12087709456682205\n",
      "Epoch 4600, Loss: 0.1206156313419342\n",
      "Epoch 4700, Loss: 0.12037240713834763\n",
      "Epoch 4800, Loss: 0.12008671462535858\n",
      "Epoch 4900, Loss: 0.11985519528388977\n",
      "Epoch 5000, Loss: 0.11963549256324768\n",
      "Epoch 5100, Loss: 0.11937364190816879\n",
      "Epoch 5200, Loss: 0.11911923438310623\n",
      "Epoch 5300, Loss: 0.11887907981872559\n",
      "Epoch 5400, Loss: 0.11867091804742813\n",
      "Epoch 5500, Loss: 0.11847230792045593\n",
      "Epoch 5600, Loss: 0.11824808269739151\n",
      "Epoch 5700, Loss: 0.11801740527153015\n",
      "Epoch 5800, Loss: 0.11780031025409698\n",
      "Epoch 5900, Loss: 0.11760263890028\n",
      "Epoch 6000, Loss: 0.11739231646060944\n",
      "Epoch 6100, Loss: 0.11717143654823303\n",
      "Epoch 6200, Loss: 0.11699453741312027\n",
      "Epoch 6300, Loss: 0.1167515441775322\n",
      "Epoch 6400, Loss: 0.11653579026460648\n",
      "Epoch 6500, Loss: 0.11633279174566269\n",
      "Epoch 6600, Loss: 0.11613675951957703\n",
      "Epoch 6700, Loss: 0.1159224659204483\n",
      "Epoch 6800, Loss: 0.11566495895385742\n",
      "Epoch 6900, Loss: 0.11545401066541672\n",
      "Epoch 7000, Loss: 0.11524645984172821\n",
      "Epoch 7100, Loss: 0.11506529152393341\n",
      "Epoch 7200, Loss: 0.11481734365224838\n",
      "Epoch 7300, Loss: 0.11458569020032883\n",
      "Epoch 7400, Loss: 0.11432528495788574\n",
      "Epoch 7500, Loss: 0.11409654468297958\n",
      "Epoch 7600, Loss: 0.11384473741054535\n",
      "Epoch 7700, Loss: 0.11361949145793915\n",
      "Epoch 7800, Loss: 0.11334765702486038\n",
      "Epoch 7900, Loss: 0.11311445385217667\n",
      "Epoch 8000, Loss: 0.1128745973110199\n",
      "Epoch 8100, Loss: 0.11260588467121124\n",
      "Epoch 8200, Loss: 0.11235515773296356\n",
      "Epoch 8300, Loss: 0.11209794878959656\n",
      "Epoch 8400, Loss: 0.11181862652301788\n",
      "Epoch 8500, Loss: 0.11155320703983307\n",
      "Epoch 8600, Loss: 0.1112748458981514\n",
      "Epoch 8700, Loss: 0.11100979894399643\n",
      "Epoch 8800, Loss: 0.1107172742486\n",
      "Epoch 8900, Loss: 0.11046499013900757\n",
      "Epoch 9000, Loss: 0.11019518226385117\n",
      "Epoch 9100, Loss: 0.10987958312034607\n",
      "Epoch 9200, Loss: 0.10960967093706131\n",
      "Epoch 9300, Loss: 0.10930363088846207\n",
      "Epoch 9400, Loss: 0.10903312265872955\n",
      "Epoch 9500, Loss: 0.10875268280506134\n",
      "Epoch 9600, Loss: 0.10845905542373657\n",
      "Epoch 9700, Loss: 0.10819494724273682\n",
      "Epoch 9800, Loss: 0.10784249752759933\n",
      "Epoch 9900, Loss: 0.10753677040338516\n",
      "tensor([[0.1059],\n",
      "        [0.3239],\n",
      "        [0.0180],\n",
      "        ...,\n",
      "        [0.0127],\n",
      "        [0.0057],\n",
      "        [0.0259]]) tensor(0.1208)\n"
     ]
    }
   ],
   "source": [
    "trained_model = train(model, X_train, y_train, loss_fn, optimizer, epochs=10000)\n",
    "y_preds, val_loss = evaluate(trained_model, X_val, y_val, loss_fn)\n",
    "print(y_preds, val_loss)"
   ]
  },
  {
   "cell_type": "code",
   "execution_count": 38,
   "id": "63feeee4-7fe0-48d3-adaa-fd6505e85383",
   "metadata": {},
   "outputs": [
    {
     "name": "stdout",
     "output_type": "stream",
     "text": [
      "accuracy: 0.9579008073817762\n"
     ]
    }
   ],
   "source": [
    "y_pred = evaluate(trained_model, X_val, y_val, loss_fn)\n",
    "# Функция evaluate возвращает кортеж (output, loss), поэтому нужно получить только output\n",
    "y_preds, val_loss = evaluate(trained_model, X_val, y_val, loss_fn)\n",
    "\n",
    "# Преобразование вероятностей в бинарные метки (0 или 1)\n",
    "# Предполагаем, что порог для бинарной классификации равен 0.5\n",
    "y_pred_labels = (y_preds >= 0.155).float()\n",
    "\n",
    "# Вызов функции accuracy_score на векторе предсказанных меток и векторе истинных меток\n",
    "acc = accuracy_score(y_val, y_pred_labels)\n",
    "\n",
    "# Вывод значения accuracy\n",
    "print(f'accuracy: {acc}')"
   ]
  },
  {
   "cell_type": "code",
   "execution_count": 39,
   "id": "dc299eb8-44d8-4511-8226-9ef250639518",
   "metadata": {},
   "outputs": [
    {
     "name": "stdout",
     "output_type": "stream",
     "text": [
      "Number of unique labels: 2\n",
      "Unique labels: tensor([0., 1.])\n",
      "Number of class 1: 144\n"
     ]
    }
   ],
   "source": [
    "# Получение уникальных значений в тензоре\n",
    "unique_labels = torch.unique(y_pred_labels)\n",
    "\n",
    "# Подсчет количества уникальных значений\n",
    "num_unique_labels = len(unique_labels)\n",
    "\n",
    "print(f'Number of unique labels: {num_unique_labels}')\n",
    "print(f'Unique labels: {unique_labels}')\n",
    "\n",
    "num_ones = torch.sum(y_pred_labels)\n",
    "\n",
    "print(f'Number of class 1: {int(num_ones)}')"
   ]
  },
  {
   "cell_type": "code",
   "execution_count": 40,
   "id": "8fc5a944-b0a0-4917-a113-c77252bb730e",
   "metadata": {},
   "outputs": [],
   "source": [
    "# Находится ли модель в режиме оценки?\n",
    "model.eval()\n",
    "# Применение модели к тестовым данным и получаем предсказанные вероятности\n",
    "with torch.no_grad():\n",
    "    y_test_preds = model(X_test)"
   ]
  },
  {
   "cell_type": "code",
   "execution_count": 41,
   "id": "06fbca69-b504-4ecb-a3b2-1f3f7d49df03",
   "metadata": {},
   "outputs": [
    {
     "data": {
      "text/html": [
       "<div>\n",
       "<style scoped>\n",
       "    .dataframe tbody tr th:only-of-type {\n",
       "        vertical-align: middle;\n",
       "    }\n",
       "\n",
       "    .dataframe tbody tr th {\n",
       "        vertical-align: top;\n",
       "    }\n",
       "\n",
       "    .dataframe thead th {\n",
       "        text-align: right;\n",
       "    }\n",
       "</style>\n",
       "<table border=\"1\" class=\"dataframe\">\n",
       "  <thead>\n",
       "    <tr style=\"text-align: right;\">\n",
       "      <th></th>\n",
       "      <th>apply_promo</th>\n",
       "    </tr>\n",
       "  </thead>\n",
       "  <tbody>\n",
       "    <tr>\n",
       "      <th>0</th>\n",
       "      <td>0.004941</td>\n",
       "    </tr>\n",
       "    <tr>\n",
       "      <th>1</th>\n",
       "      <td>0.085121</td>\n",
       "    </tr>\n",
       "    <tr>\n",
       "      <th>2</th>\n",
       "      <td>0.018398</td>\n",
       "    </tr>\n",
       "    <tr>\n",
       "      <th>3</th>\n",
       "      <td>0.015082</td>\n",
       "    </tr>\n",
       "    <tr>\n",
       "      <th>4</th>\n",
       "      <td>0.040200</td>\n",
       "    </tr>\n",
       "    <tr>\n",
       "      <th>...</th>\n",
       "      <td>...</td>\n",
       "    </tr>\n",
       "    <tr>\n",
       "      <th>6801</th>\n",
       "      <td>0.012320</td>\n",
       "    </tr>\n",
       "    <tr>\n",
       "      <th>6802</th>\n",
       "      <td>0.013606</td>\n",
       "    </tr>\n",
       "    <tr>\n",
       "      <th>6803</th>\n",
       "      <td>0.026646</td>\n",
       "    </tr>\n",
       "    <tr>\n",
       "      <th>6804</th>\n",
       "      <td>0.092683</td>\n",
       "    </tr>\n",
       "    <tr>\n",
       "      <th>6805</th>\n",
       "      <td>0.012255</td>\n",
       "    </tr>\n",
       "  </tbody>\n",
       "</table>\n",
       "<p>6806 rows × 1 columns</p>\n",
       "</div>"
      ],
      "text/plain": [
       "      apply_promo\n",
       "0        0.004941\n",
       "1        0.085121\n",
       "2        0.018398\n",
       "3        0.015082\n",
       "4        0.040200\n",
       "...           ...\n",
       "6801     0.012320\n",
       "6802     0.013606\n",
       "6803     0.026646\n",
       "6804     0.092683\n",
       "6805     0.012255\n",
       "\n",
       "[6806 rows x 1 columns]"
      ]
     },
     "execution_count": 41,
     "metadata": {},
     "output_type": "execute_result"
    }
   ],
   "source": [
    "y_test_probs = y_test_preds.cpu().numpy()\n",
    "y_test_probs = y_test_probs.flatten()\n",
    "\n",
    "result_df = pd.DataFrame({'apply_promo': y_test_probs})\n",
    "result_df.to_csv(dir + 'submit.csv', index=False)  # 0.71\n",
    "result_df"
   ]
  },
  {
   "cell_type": "markdown",
   "id": "0c14b33e-08df-49e6-98f0-ed894f90b5de",
   "metadata": {},
   "source": [
    "# Стэк"
   ]
  },
  {
   "cell_type": "code",
   "execution_count": 42,
   "id": "cbb0417c-8e60-4513-a37c-ea6ef19371be",
   "metadata": {},
   "outputs": [
    {
     "name": "stdout",
     "output_type": "stream",
     "text": [
      "Размерность тренировочной выборки: (20805, 25)\n",
      "Размерность валидационной: (6936, 25)\n",
      "Размерность тестовой: (6806, 25)\n"
     ]
    }
   ],
   "source": [
    "X = train_features_target_clean.drop('apply_promo', axis=1)\n",
    "y = train_features_target_clean['apply_promo']\n",
    "\n",
    "# разбиваем тренировочную выборку на тренировочную и валидационную в соотношении 75/25\n",
    "X_train, X_val, y_train, y_val = train_test_split(X, y, random_state=42)\n",
    "\n",
    "y_train.value_counts()\n",
    "\n",
    "X_test = test_features_filled.copy()\n",
    "\n",
    "print(f'Размерность тренировочной выборки: {X_train.shape}')\n",
    "print(f'Размерность валидационной: {X_val.shape}')\n",
    "print(f'Размерность тестовой: {X_test.shape}')"
   ]
  },
  {
   "cell_type": "code",
   "execution_count": 43,
   "id": "38407d71-ecd4-488c-b533-7fea47cf3168",
   "metadata": {},
   "outputs": [],
   "source": [
    "# Стандартизация данных\n",
    "scaler = StandardScaler()\n",
    "X_train_scaled = scaler.fit_transform(X_train)\n",
    "X_val_scaled = scaler.transform(X_val)\n",
    "X_test_scaled = scaler.transform(X_test)"
   ]
  },
  {
   "cell_type": "code",
   "execution_count": 44,
   "id": "2f8eaca1-8f7e-4574-926e-b4893e8a7a69",
   "metadata": {},
   "outputs": [],
   "source": [
    "# Обучение линейной регрессии\n",
    "lr = LinearRegression()\n",
    "lr.fit(X_train_scaled, y_train)\n",
    "lr_train_preds = lr.predict(X_train_scaled)\n",
    "lr_val_preds = lr.predict(X_val_scaled)\n",
    "lr_test_preds = lr.predict(X_test_scaled)"
   ]
  },
  {
   "cell_type": "code",
   "execution_count": 45,
   "id": "14186744-d518-4037-ae30-5ce865228d4a",
   "metadata": {},
   "outputs": [
    {
     "name": "stdout",
     "output_type": "stream",
     "text": [
      "20805 6936 6806\n"
     ]
    }
   ],
   "source": [
    "# Обучение градиентного бустинга\n",
    "gb = GradientBoostingClassifier()\n",
    "gb.fit(X_train, y_train)\n",
    "gb_train_preds = gb.predict_proba(X_train)[:, 1]\n",
    "gb_val_preds = gb.predict_proba(X_val)[:, 1]\n",
    "gb_test_preds = gb.predict_proba(X_test)[:, 1]\n",
    "print(len(gb_train_preds), len(gb_val_preds), len(gb_test_preds))"
   ]
  },
  {
   "cell_type": "code",
   "execution_count": 46,
   "id": "e6548aca-9b0f-43e9-8621-71f5565bae60",
   "metadata": {},
   "outputs": [],
   "source": [
    "# Добавляем предсказания базовых моделей в качестве новых признаков\n",
    "X_train_stack = np.column_stack((X_train_scaled, lr_train_preds, gb_train_preds))\n",
    "X_val_stack = np.column_stack((X_val_scaled, lr_val_preds, gb_val_preds))\n",
    "X_test_stack = np.column_stack((X_test_scaled, lr_test_preds, gb_test_preds))"
   ]
  },
  {
   "cell_type": "code",
   "execution_count": 47,
   "id": "5f70e63a-4f9d-4f9b-b965-db103c7dbf86",
   "metadata": {
    "scrolled": true
   },
   "outputs": [],
   "source": [
    "# Преобразование в тензоры\n",
    "X_train = torch.tensor(X_train_stack, dtype=torch.float32)\n",
    "X_val = torch.tensor(X_val_stack, dtype=torch.float32)\n",
    "y_train = torch.tensor(y_train.values, dtype=torch.float32)\n",
    "y_val = torch.tensor(y_val.values, dtype=torch.float32)\n",
    "X_test = torch.tensor(X_test_stack, dtype=torch.float32)"
   ]
  },
  {
   "cell_type": "code",
   "execution_count": 48,
   "id": "ee87b218-bdda-477e-b585-b44f9724bd6f",
   "metadata": {},
   "outputs": [],
   "source": [
    "# Архитектура, предусматривающиая добавление гауссовского шума в данные \n",
    "class NoisyClassifier(nn.Module):\n",
    "    def __init__(self):\n",
    "        super(NoisyClassifier, self).__init__()\n",
    "        self.linear1 = nn.Linear(in_features=27, out_features=128)\n",
    "        self.tanh = nn.Tanh()\n",
    "        self.relu = nn.ReLU()\n",
    "        self.linear2 = nn.Linear(in_features=128, out_features=1)\n",
    "        self.sigmoid = nn.Sigmoid()\n",
    "        self.noise_std = 0.01  # Стандартное отклонение шума\n",
    "\n",
    "    def forward(self, x):\n",
    "        # Добавляем гауссовский шум к входным данным\n",
    "        noise = torch.randn_like(x) * self.noise_std\n",
    "        x = x + noise\n",
    "\n",
    "        x = self.relu(self.tanh(self.linear1(x)))\n",
    "        x = self.sigmoid(self.linear2(x))\n",
    "        return x\n",
    "\n",
    "# Пример создания и использования модели\n",
    "model = NoisyClassifier()"
   ]
  },
  {
   "cell_type": "code",
   "execution_count": 49,
   "id": "23b786ef-afe2-488f-a623-3ba231cb2308",
   "metadata": {},
   "outputs": [],
   "source": [
    "# Используем BCELoss вместо CrossEntropyLoss\n",
    "loss_fn = nn.BCELoss()\n",
    "\n",
    "# Пример вашего кода тренировки\n",
    "optimizer = torch.optim.Adam(model.parameters(), lr=0.00005)"
   ]
  },
  {
   "cell_type": "code",
   "execution_count": null,
   "id": "4759bc76-5693-4242-a789-dfc91c476b62",
   "metadata": {},
   "outputs": [
    {
     "name": "stdout",
     "output_type": "stream",
     "text": [
      "Epoch 0, Loss: 0.634959876537323\n",
      "Epoch 100, Loss: 0.5726790428161621\n",
      "Epoch 200, Loss: 0.517582893371582\n",
      "Epoch 300, Loss: 0.4682895839214325\n",
      "Epoch 400, Loss: 0.42420050501823425\n",
      "Epoch 500, Loss: 0.3848336935043335\n",
      "Epoch 600, Loss: 0.3497590720653534\n",
      "Epoch 700, Loss: 0.31833919882774353\n",
      "Epoch 800, Loss: 0.29054903984069824\n",
      "Epoch 900, Loss: 0.26627758145332336\n",
      "Epoch 1000, Loss: 0.24520137906074524\n",
      "Epoch 1100, Loss: 0.22708052396774292\n",
      "Epoch 1200, Loss: 0.21150675415992737\n",
      "Epoch 1300, Loss: 0.19819611310958862\n",
      "Epoch 1400, Loss: 0.18682028353214264\n",
      "Epoch 1500, Loss: 0.17718927562236786\n",
      "Epoch 1600, Loss: 0.16898420453071594\n",
      "Epoch 1700, Loss: 0.16203618049621582\n",
      "Epoch 1800, Loss: 0.1561502069234848\n",
      "Epoch 1900, Loss: 0.15114912390708923\n",
      "Epoch 2000, Loss: 0.14688722789287567\n",
      "Epoch 2100, Loss: 0.14322741329669952\n",
      "Epoch 2200, Loss: 0.1401379108428955\n",
      "Epoch 2300, Loss: 0.13750296831130981\n",
      "Epoch 2400, Loss: 0.1352544128894806\n",
      "Epoch 2500, Loss: 0.13329030573368073\n",
      "Epoch 2600, Loss: 0.1316077709197998\n",
      "Epoch 2700, Loss: 0.13013796508312225\n",
      "Epoch 2800, Loss: 0.12888921797275543\n",
      "Epoch 2900, Loss: 0.12781541049480438\n",
      "Epoch 3000, Loss: 0.12685303390026093\n",
      "Epoch 3100, Loss: 0.12598823010921478\n",
      "Epoch 3200, Loss: 0.12521401047706604\n",
      "Epoch 3300, Loss: 0.1245526522397995\n",
      "Epoch 3400, Loss: 0.12392960488796234\n",
      "Epoch 3500, Loss: 0.12338688969612122\n",
      "Epoch 3600, Loss: 0.12289238721132278\n",
      "Epoch 3700, Loss: 0.12240904569625854\n",
      "Epoch 3800, Loss: 0.12202609330415726\n",
      "Epoch 3900, Loss: 0.12160617113113403\n",
      "Epoch 4000, Loss: 0.12118808180093765\n",
      "Epoch 4100, Loss: 0.1208166554570198\n",
      "Epoch 4200, Loss: 0.12046371400356293\n",
      "Epoch 4300, Loss: 0.12011151015758514\n",
      "Epoch 4400, Loss: 0.11977078020572662\n",
      "Epoch 4500, Loss: 0.11944562196731567\n",
      "Epoch 4600, Loss: 0.11918440461158752\n",
      "Epoch 4700, Loss: 0.11882519721984863\n",
      "Epoch 4800, Loss: 0.11855272948741913\n",
      "Epoch 4900, Loss: 0.1182517409324646\n",
      "Epoch 5000, Loss: 0.11796578019857407\n",
      "Epoch 5100, Loss: 0.11767016351222992\n",
      "Epoch 5200, Loss: 0.11741619557142258\n",
      "Epoch 5300, Loss: 0.11709973961114883\n",
      "Epoch 5400, Loss: 0.11680713295936584\n",
      "Epoch 5500, Loss: 0.11651531606912613\n",
      "Epoch 5600, Loss: 0.11623591184616089\n",
      "Epoch 5700, Loss: 0.11590805649757385\n",
      "Epoch 5800, Loss: 0.1156233698129654\n",
      "Epoch 5900, Loss: 0.1153339073061943\n",
      "Epoch 6000, Loss: 0.11500109732151031\n",
      "Epoch 6100, Loss: 0.11469611525535583\n",
      "Epoch 6200, Loss: 0.11445280909538269\n",
      "Epoch 6300, Loss: 0.11411096155643463\n",
      "Epoch 6400, Loss: 0.11378098279237747\n",
      "Epoch 6500, Loss: 0.11344939470291138\n",
      "Epoch 6600, Loss: 0.11315411329269409\n",
      "Epoch 6700, Loss: 0.1128116026520729\n",
      "Epoch 6800, Loss: 0.11251180619001389\n",
      "Epoch 6900, Loss: 0.11215928196907043\n",
      "Epoch 7000, Loss: 0.11184301972389221\n",
      "Epoch 7100, Loss: 0.11148726940155029\n",
      "Epoch 7200, Loss: 0.11117392033338547\n",
      "Epoch 7300, Loss: 0.11080218851566315\n",
      "Epoch 7400, Loss: 0.11039569973945618\n",
      "Epoch 7500, Loss: 0.11005140841007233\n",
      "Epoch 7600, Loss: 0.10972261428833008\n",
      "Epoch 7700, Loss: 0.10932787507772446\n",
      "Epoch 7800, Loss: 0.10896702855825424\n",
      "Epoch 7900, Loss: 0.10863986611366272\n",
      "Epoch 8000, Loss: 0.10818995535373688\n",
      "Epoch 8100, Loss: 0.10788074880838394\n",
      "Epoch 8200, Loss: 0.107418492436409\n",
      "Epoch 8300, Loss: 0.10706773400306702\n",
      "Epoch 8400, Loss: 0.10673961043357849\n",
      "Epoch 8500, Loss: 0.10628360509872437\n",
      "Epoch 8600, Loss: 0.10590441524982452\n",
      "Epoch 8700, Loss: 0.10549705475568771\n",
      "Epoch 8800, Loss: 0.10505383461713791\n",
      "Epoch 8900, Loss: 0.10471455007791519\n",
      "Epoch 9000, Loss: 0.10431380569934845\n",
      "Epoch 9100, Loss: 0.10392247885465622\n",
      "Epoch 9200, Loss: 0.10351525247097015\n"
     ]
    }
   ],
   "source": [
    "trained_model = train(model, X_train, y_train, loss_fn, optimizer, epochs=10000)\n",
    "y_preds, val_loss = evaluate(trained_model, X_val, y_val, loss_fn)\n",
    "print(y_preds, val_loss)"
   ]
  },
  {
   "cell_type": "code",
   "execution_count": null,
   "id": "033f15fa-1001-4920-bd43-1b317d24f826",
   "metadata": {},
   "outputs": [],
   "source": [
    "y_pred = evaluate(trained_model, X_val, y_val, loss_fn)\n",
    "# Функция evaluate возвращает кортеж (output, loss), поэтому нужно получить только output\n",
    "y_preds, val_loss = evaluate(trained_model, X_val, y_val, loss_fn)\n",
    "\n",
    "# Преобразование вероятностей в бинарные метки (0 или 1)\n",
    "# Предполагаем, что порог для бинарной классификации равен 0.5\n",
    "y_pred_labels = (y_preds >= 0.155).float()\n",
    "\n",
    "# Вызов функции accuracy_score на векторе предсказанных меток и векторе истинных меток\n",
    "acc = accuracy_score(y_val, y_pred_labels)\n",
    "\n",
    "# Вывод значения accuracy\n",
    "print(f'accuracy: {acc}')"
   ]
  },
  {
   "cell_type": "code",
   "execution_count": null,
   "id": "7cd070b6-9e0e-4121-a574-fcff9732fecf",
   "metadata": {},
   "outputs": [],
   "source": [
    "# Получение уникальных значений в тензоре\n",
    "unique_labels = torch.unique(y_pred_labels)\n",
    "\n",
    "# Подсчет количества уникальных значений\n",
    "num_unique_labels = len(unique_labels)\n",
    "\n",
    "print(f'Number of unique labels: {num_unique_labels}')\n",
    "print(f'Unique labels: {unique_labels}')\n",
    "\n",
    "num_ones = torch.sum(y_pred_labels)\n",
    "\n",
    "print(f'Number of class 1: {int(num_ones)}')"
   ]
  },
  {
   "cell_type": "code",
   "execution_count": null,
   "id": "1f3126b5-6eb6-48fd-86ca-8182b0672541",
   "metadata": {},
   "outputs": [],
   "source": [
    "# Находится ли модель в режиме оценки?\n",
    "model.eval()\n",
    "# Применение модели к тестовым данным и получаем предсказанные вероятности\n",
    "with torch.no_grad():\n",
    "    y_test_preds = model(X_test)"
   ]
  },
  {
   "cell_type": "code",
   "execution_count": null,
   "id": "7576b9e5-a980-4975-8ecf-cf2929e3e116",
   "metadata": {},
   "outputs": [],
   "source": [
    "y_test_probs = y_test_preds.cpu().numpy()\n",
    "y_test_probs = y_test_probs.flatten()\n",
    "\n",
    "result_df = pd.DataFrame({'apply_promo': y_test_probs})\n",
    "result_df.to_csv(dir + 'submit.csv', index=False)  # 0.69\n",
    "result_df"
   ]
  }
 ],
 "metadata": {
  "kernelspec": {
   "display_name": "Python 3 (ipykernel)",
   "language": "python",
   "name": "python3"
  },
  "language_info": {
   "codemirror_mode": {
    "name": "ipython",
    "version": 3
   },
   "file_extension": ".py",
   "mimetype": "text/x-python",
   "name": "python",
   "nbconvert_exporter": "python",
   "pygments_lexer": "ipython3",
   "version": "3.11.5"
  }
 },
 "nbformat": 4,
 "nbformat_minor": 5
}
